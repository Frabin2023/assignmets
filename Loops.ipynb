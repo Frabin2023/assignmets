{
  "nbformat": 4,
  "nbformat_minor": 0,
  "metadata": {
    "colab": {
      "provenance": [],
      "include_colab_link": true
    },
    "kernelspec": {
      "name": "python3",
      "display_name": "Python 3"
    },
    "language_info": {
      "name": "python"
    }
  },
  "cells": [
    {
      "cell_type": "markdown",
      "metadata": {
        "id": "view-in-github",
        "colab_type": "text"
      },
      "source": [
        "<a href=\"https://colab.research.google.com/github/Frabin2023/assignmets/blob/main/Loops.ipynb\" target=\"_parent\"><img src=\"https://colab.research.google.com/assets/colab-badge.svg\" alt=\"Open In Colab\"/></a>"
      ]
    },
    {
      "cell_type": "markdown",
      "source": [
        "# Loops in Python\n",
        "\n",
        "A sequence of instructions that repeats until a certain condition is met\n",
        "\n",
        "## Objective\n",
        "Understand how loops are applied\n",
        "\n",
        "## Prerequisite\n",
        "\n",
        "- Decision statements\n",
        "- Input functions\n",
        "- Python literals\n",
        "- Programming variables\n",
        "\n",
        "## What do you need to complete this exercise?\n",
        "\n",
        "You can perform this exercise in any Python IDE, including JupyterLab or Google Colab.\n"
      ],
      "metadata": {
        "id": "2ITy4ycVFXBq"
      }
    },
    {
      "cell_type": "markdown",
      "source": [
        "### While loop\n",
        "\n",
        "a. Please write Python code using a while loop to perform the following steps.\n",
        "\n",
        "1. Take any non-negative and non-zero integer number and name it ```n0```\n",
        "2. if the number is even, evaluate a new ```n0``` as ```n0 ÷ 2```;\n",
        "3. Otherwise, if the number is odd, evaluate a new ```n0``` as ```3 * n0 + 1```;\n",
        "4. if ```n0``` is not equal to 1, go to point 2.\n",
        "\n",
        "#### Sample input: ```16```\n",
        "\n",
        "#### Expected output: ###\n",
        "\n",
        "```\n",
        "8\n",
        "4\n",
        "2\n",
        "1\n",
        "steps = 4\n",
        "```"
      ],
      "metadata": {
        "id": "uQxH0KO0tsDc"
      }
    },
    {
      "cell_type": "code",
      "source": [
        "# Write your code here.\n",
        "# get user input\n",
        "n0 = int(input(\"Enter a positive number: \"))\n",
        "\n",
        "#initiolize step\n",
        "steps = 0\n",
        "while n0 !=1:\n",
        "#even number\n",
        "  if(n0 % 2==0):\n",
        "    n0 = n0//2\n",
        "  else: #odd cases\n",
        "    n0 = 3 * n0 + 1\n",
        "\n",
        "  print (n0)\n",
        "  steps += 1 # to increment\n",
        "\n",
        "  print(\"steps =\", steps)\n",
        "\n"
      ],
      "metadata": {
        "id": "5M7ksW8xsC3k",
        "colab": {
          "base_uri": "https://localhost:8080/"
        },
        "outputId": "7673896c-40ef-4d96-8372-39dbeb76bed6"
      },
      "execution_count": 2,
      "outputs": [
        {
          "output_type": "stream",
          "name": "stdout",
          "text": [
            "Enter a positive number: 45\n",
            "136\n",
            "steps = 1\n",
            "68\n",
            "steps = 2\n",
            "34\n",
            "steps = 3\n",
            "17\n",
            "steps = 4\n",
            "52\n",
            "steps = 5\n",
            "26\n",
            "steps = 6\n",
            "13\n",
            "steps = 7\n",
            "40\n",
            "steps = 8\n",
            "20\n",
            "steps = 9\n",
            "10\n",
            "steps = 10\n",
            "5\n",
            "steps = 11\n",
            "16\n",
            "steps = 12\n",
            "8\n",
            "steps = 13\n",
            "4\n",
            "steps = 14\n",
            "2\n",
            "steps = 15\n",
            "1\n",
            "steps = 16\n"
          ]
        }
      ]
    },
    {
      "cell_type": "markdown",
      "source": [
        "b. Write code that uses a while loop and runs indefinitely. Modify the same code to resolve the infinite loop issue."
      ],
      "metadata": {
        "id": "S3X6hdy5sI-s"
      }
    },
    {
      "cell_type": "code",
      "source": [
        "# Write your code here.\n",
        "# in this example the condition is x+1. it means the condition meets all the time.\n",
        "#x = 5\n",
        "#while (x>0)\n",
        "#print (x)\n",
        "#x = x+1\n",
        "###\n",
        "# we can make the x-1 instead to limit the iteration to a few times until it reachs 0 which is not greater than 0 and loop stops."
      ],
      "metadata": {
        "id": "cs0pk1_qsNY0"
      },
      "execution_count": null,
      "outputs": []
    },
    {
      "cell_type": "markdown",
      "source": [
        "c. Write a program that takes two integers as input and asks the user to choose an arithmetic operation to perform with those numbers. At the end of the program, prompt the user with the question, \"Do you want to continue?\" If the user selects \"Y\" or \"y,\" the program should restart; otherwise, it should exit and display the message, \"Have a good day.\""
      ],
      "metadata": {
        "id": "oxXvMBKNsX8M"
      }
    },
    {
      "cell_type": "code",
      "source": [
        "# Write your code here.\n",
        "while True:\n",
        "  num1= int(input(\"Enter an integer number: \"))\n",
        "  num2= int(input(\"Enter the second integer number\"))\n",
        "\n",
        "  # ask the user to choose an arithmetic Operation\n",
        "  print(\"\\nChoose an Operation: \")\n",
        "  print(\"1. addition\")\n",
        "  print(\"2. subtraction\")\n",
        "  print(\"3. Multiplication\")\n",
        "  print(\"4. Division\")\n",
        "\n",
        "  choose = input(\"Enter you choosen number: \")\n",
        "  if choose == \"1\":\n",
        "    result = num1 + num2\n",
        "    print(f\"result: {num1} + {num2} = {result}\")\n",
        "  elif choose == \"2\":\n",
        "        result = num1 - num2\n",
        "        print(f\"Result: {num1} - {num2} = {result}\")\n",
        "  elif choose == \"3\":\n",
        "        result = num1 * num2\n",
        "        print(f\"Result: {num1} * {num2} = {result}\")\n",
        "  elif choose == \"4\":\n",
        "        if num2 == 0:  # Handle division by zero\n",
        "            print(\"Error: Division by zero is not allowed.\")\n",
        "        else:\n",
        "            result = num1 / num2\n",
        "            print(f\"Result: {num1} / {num2} = {result}\")\n",
        "  else:\n",
        "        print(\"Invalid choice! Please select a number between 1 and 4.\")\n",
        "\n",
        "    # Ask user if they want to continue\n",
        "  again = input(\"\\nDo you want to continue? (Y/y for yes, any other key to exit): \").strip().lower()\n",
        "  if again != \"y\":\n",
        "        print(\"Have a good day!\")\n",
        "        break  # Exit the loop if the user does not enter 'y'\n",
        "\n"
      ],
      "metadata": {
        "id": "w9Ai1I_JsYw9",
        "colab": {
          "base_uri": "https://localhost:8080/"
        },
        "outputId": "a2fdcae6-abd4-4c25-c2ab-cf87a66927c5"
      },
      "execution_count": 3,
      "outputs": [
        {
          "output_type": "stream",
          "name": "stdout",
          "text": [
            "Enter an integer number: 87\n",
            "Enter the second integer number3\n",
            "\n",
            "Choose an Operation: \n",
            "1. addition\n",
            "2. subtraction\n",
            "3. Multiplication\n",
            "4. Division\n",
            "Enter you choosen number: 3\n",
            "Result: 87 * 3 = 261\n",
            "\n",
            "Do you want to continue? (Y/y for yes, any other key to exit): j\n",
            "Have a good day!\n"
          ]
        }
      ]
    },
    {
      "cell_type": "markdown",
      "source": [
        "### 2. For loops\n",
        "\n",
        "a. Write a code that counts the total number of characters in a text and also counts each character individually. For example, consider the sentence \"To be, or not to be, that is the question.\" The code should determine the total number of letters and how many times each letter appears, including specific counts for the letters 't' and 'o', etc. Ignore the upper and lower cases letters, and any punctuations symbols. Use only for loop, while loop, break and continue statements where necessary.\n",
        "\n",
        "#### Sample input: ```To be, or not to be, that is the question```\n",
        "\n",
        "#### Expected output: ###\n",
        "\n",
        "```\n",
        "Total number of alphabets: 30\n",
        "Total number of distinct alphabets are:\n",
        "T = 7\n",
        "o = 4\n",
        "```\n",
        "> **Note:** The expected output above is incomplete.\n"
      ],
      "metadata": {
        "id": "IeiOBf1Tse1c"
      }
    },
    {
      "cell_type": "code",
      "source": [
        "# Write your code here.\n",
        "import string\n",
        "\n",
        "sentence = input(\"Enter a sentence : \").lower()\n",
        "\n",
        "charCount ={}\n",
        "\n",
        "total = 0\n",
        "\n",
        "for char in sentence:\n",
        "  if char in sentence.ascii_lowercase:\n",
        "    total += 1\n",
        "    charCount[char] = charCount.get(char, 0) + 1\n",
        "\n",
        "print (f\"Total number of alphabets: {total}\")\n",
        "\n",
        "print (\"Total number of distinct alphabets are : \")\n",
        "for letter, count in sorted(charCount.items()):\n",
        "    print(f\"{letter} = {count}\")\n"
      ],
      "metadata": {
        "id": "FprfxHfksh2-",
        "colab": {
          "base_uri": "https://localhost:8080/",
          "height": 237
        },
        "outputId": "5b26a03d-caf6-449a-9803-b181fb67c8b2"
      },
      "execution_count": 6,
      "outputs": [
        {
          "name": "stdout",
          "output_type": "stream",
          "text": [
            "Enter a sentence : I am student\n"
          ]
        },
        {
          "output_type": "error",
          "ename": "AttributeError",
          "evalue": "'str' object has no attribute 'ascii_lowercase'",
          "traceback": [
            "\u001b[0;31m---------------------------------------------------------------------------\u001b[0m",
            "\u001b[0;31mAttributeError\u001b[0m                            Traceback (most recent call last)",
            "\u001b[0;32m<ipython-input-6-f50d8d2c76da>\u001b[0m in \u001b[0;36m<cell line: 0>\u001b[0;34m()\u001b[0m\n\u001b[1;32m      9\u001b[0m \u001b[0;34m\u001b[0m\u001b[0m\n\u001b[1;32m     10\u001b[0m \u001b[0;32mfor\u001b[0m \u001b[0mchar\u001b[0m \u001b[0;32min\u001b[0m \u001b[0msentence\u001b[0m\u001b[0;34m:\u001b[0m\u001b[0;34m\u001b[0m\u001b[0;34m\u001b[0m\u001b[0m\n\u001b[0;32m---> 11\u001b[0;31m   \u001b[0;32mif\u001b[0m \u001b[0mchar\u001b[0m \u001b[0;32min\u001b[0m \u001b[0msentence\u001b[0m\u001b[0;34m.\u001b[0m\u001b[0mascii_lowercase\u001b[0m\u001b[0;34m:\u001b[0m\u001b[0;34m\u001b[0m\u001b[0;34m\u001b[0m\u001b[0m\n\u001b[0m\u001b[1;32m     12\u001b[0m     \u001b[0mtotal\u001b[0m \u001b[0;34m+=\u001b[0m \u001b[0;36m1\u001b[0m\u001b[0;34m\u001b[0m\u001b[0;34m\u001b[0m\u001b[0m\n\u001b[1;32m     13\u001b[0m     \u001b[0mcharCount\u001b[0m\u001b[0;34m[\u001b[0m\u001b[0mchar\u001b[0m\u001b[0;34m]\u001b[0m \u001b[0;34m=\u001b[0m \u001b[0mcharCount\u001b[0m\u001b[0;34m.\u001b[0m\u001b[0mget\u001b[0m\u001b[0;34m(\u001b[0m\u001b[0mchar\u001b[0m\u001b[0;34m,\u001b[0m \u001b[0;36m0\u001b[0m\u001b[0;34m)\u001b[0m \u001b[0;34m+\u001b[0m \u001b[0;36m1\u001b[0m\u001b[0;34m\u001b[0m\u001b[0;34m\u001b[0m\u001b[0m\n",
            "\u001b[0;31mAttributeError\u001b[0m: 'str' object has no attribute 'ascii_lowercase'"
          ]
        }
      ]
    },
    {
      "cell_type": "markdown",
      "source": [
        "## Challenges\n",
        "\n",
        "Please describe the challenges you faced during the exercise."
      ],
      "metadata": {
        "id": "xQzjxKdvvbyo"
      }
    },
    {
      "cell_type": "markdown",
      "source": [
        "Write your challenges here"
      ],
      "metadata": {
        "id": "qfJNpTB5EbY4"
      }
    }
  ]
}
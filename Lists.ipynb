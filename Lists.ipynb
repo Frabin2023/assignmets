{
  "nbformat": 4,
  "nbformat_minor": 0,
  "metadata": {
    "colab": {
      "provenance": [],
      "include_colab_link": true
    },
    "kernelspec": {
      "name": "python3",
      "display_name": "Python 3"
    },
    "language_info": {
      "name": "python"
    }
  },
  "cells": [
    {
      "cell_type": "markdown",
      "metadata": {
        "id": "view-in-github",
        "colab_type": "text"
      },
      "source": [
        "<a href=\"https://colab.research.google.com/github/Frabin2023/assignmets/blob/main/Lists.ipynb\" target=\"_parent\"><img src=\"https://colab.research.google.com/assets/colab-badge.svg\" alt=\"Open In Colab\"/></a>"
      ]
    },
    {
      "cell_type": "markdown",
      "source": [
        "# Lists in Python\n",
        "A list is an ordered collection of elements, and each element can be of any data type, such as numbers, strings, Booleans, or even other lists. In Python, lists are mutable, meaning their contents can be changed. Lists are particularly useful when you want to handle a group of related values.\n",
        "\n",
        "## Objective\n",
        "- Comprehend the application of lists\n",
        "- Understand how a list uses memory\n",
        "- Apply various operations on a list\n",
        "\n",
        "## Prerequisite\n",
        "\n",
        "- Decision statements\n",
        "- Input functions\n",
        "- Python literals\n",
        "- Programming variables\n",
        "\n",
        "\n",
        "## What do you need to complete this exercise?\n",
        "\n",
        "You can perform this exercise in any Python IDE, including JupyterLab or Google Colab.\n"
      ],
      "metadata": {
        "id": "2ITy4ycVFXBq"
      }
    },
    {
      "cell_type": "markdown",
      "source": [
        "a) a. Using a range function, generate a list of 100 integers and assign the list to ```my_list```. Verify that the variable ```my_list``` data type is list. Use your favorite four methods and apply on the list. You can find the methods on [Python Docs](https://docs.python.org/3/tutorial/datastructures.html)"
      ],
      "metadata": {
        "id": "uQxH0KO0tsDc"
      }
    },
    {
      "cell_type": "code",
      "source": [
        "# Write your code here.\n",
        "my_list = list(range(100))\n",
        "\n",
        "print(my_list) #0-99\n",
        "\n",
        "# verifying data type is list\n",
        "print(f\"Data type of my_list: {type(my_list)}\")\n",
        "\n",
        "# Append\n",
        "my_list.append(100)\n",
        "#Verify if 100 is added\n",
        "print(f\"After Append list: {my_list[-5:]}\")# only print the last five element\n",
        "\n",
        "#Insert an element in the index 50 of the list\n",
        "my_list.insert(50,100)\n",
        "\n",
        "print(f\"print the indext 50 value: {my_list[50]}\") # index 50 changed to 100\n",
        "\n",
        "my_list.remove(11) # remove 11\n",
        "print(f\"remove number 11 from the list: {'exist' if 11 in my_list else 'removed'}\")\n",
        "\n",
        "my_list.reverse()\n",
        "print(f\"print the fist 10 element when you reversed: {my_list[:5]}\")\n"
      ],
      "metadata": {
        "id": "rRTflD1C9mjt",
        "outputId": "61b6270f-c0ea-4a5e-9340-7b52217be5e1",
        "colab": {
          "base_uri": "https://localhost:8080/"
        }
      },
      "execution_count": 11,
      "outputs": [
        {
          "output_type": "stream",
          "name": "stdout",
          "text": [
            "[0, 1, 2, 3, 4, 5, 6, 7, 8, 9, 10, 11, 12, 13, 14, 15, 16, 17, 18, 19, 20, 21, 22, 23, 24, 25, 26, 27, 28, 29, 30, 31, 32, 33, 34, 35, 36, 37, 38, 39, 40, 41, 42, 43, 44, 45, 46, 47, 48, 49, 50, 51, 52, 53, 54, 55, 56, 57, 58, 59, 60, 61, 62, 63, 64, 65, 66, 67, 68, 69, 70, 71, 72, 73, 74, 75, 76, 77, 78, 79, 80, 81, 82, 83, 84, 85, 86, 87, 88, 89, 90, 91, 92, 93, 94, 95, 96, 97, 98, 99]\n",
            "Data type of my_list: <class 'list'>\n",
            "After Append list: [96, 97, 98, 99, 100]\n",
            "print the indext 50 value: 100\n",
            "remove number 11 from the list: removed\n",
            "print the fist 10 element when you reversed: [100, 99, 98, 97, 96]\n"
          ]
        }
      ]
    },
    {
      "cell_type": "markdown",
      "source": [
        "b. Suppose that you have a list of 10 items long. How might you move the last three items from the end of the list to the beginning, keeping them in the same order?"
      ],
      "metadata": {
        "id": "0jkTuRdlA6sk"
      }
    },
    {
      "cell_type": "code",
      "source": [
        "# Write your code here.\n",
        "my_list1= list(range(10))\n",
        "print(my_list1)\n",
        "\n",
        "my_list1 = my_list1[-3:] + my_list1[:-3]\n",
        "print(my_list1)"
      ],
      "metadata": {
        "id": "8ZIVOfAMQt2Z",
        "outputId": "66551bb5-b8dc-4bec-da0c-85ad8fb8218b",
        "colab": {
          "base_uri": "https://localhost:8080/"
        }
      },
      "execution_count": 17,
      "outputs": [
        {
          "output_type": "stream",
          "name": "stdout",
          "text": [
            "[0, 1, 2, 3, 4, 5, 6, 7, 8, 9]\n",
            "[7, 8, 9, 0, 1, 2, 3, 4, 5, 6]\n"
          ]
        }
      ]
    },
    {
      "cell_type": "markdown",
      "source": [
        "c. What would be the result of ```len([[1,2]] * 3)```? Try to do it without coding and then verify using Python."
      ],
      "metadata": {
        "id": "Wv1LOaouA_Gq"
      }
    },
    {
      "cell_type": "code",
      "source": [
        "# Write your code here.\n",
        "len([[1,2]] * 3)\n"
      ],
      "metadata": {
        "id": "cF0UyMIqQ8V3",
        "outputId": "7e70887d-3681-4edb-ad69-6f2349221941",
        "colab": {
          "base_uri": "https://localhost:8080/"
        }
      },
      "execution_count": 18,
      "outputs": [
        {
          "output_type": "execute_result",
          "data": {
            "text/plain": [
              "3"
            ]
          },
          "metadata": {},
          "execution_count": 18
        }
      ]
    },
    {
      "cell_type": "markdown",
      "source": [
        "d. Create a list ```my-list-ten``` of 10 items that includes some duplicate entries. Then, generate a second list ```my-list-ten-mem``` that contains the memory addresses of the items from the list ```my-list-ten```. Use Python to research and identify the unique and duplicate memory addresses."
      ],
      "metadata": {
        "id": "0IWZsl7LBGvD"
      }
    },
    {
      "cell_type": "code",
      "source": [
        "# Write your code here.\n",
        "my_list_ten = [1, 2, 3, 4, 4, 5, 6, 7, 9, 10]\n",
        "my_list_ten_mem = [id(item) for item in my_list_ten]\n",
        "\n",
        "#unique and duplicate memoery\n",
        "uniqueAddress= set()\n",
        "duplicateAddress= set()\n",
        "\n",
        "for address in my_list_ten_mem:\n",
        "  if address in uniqueAddress:\n",
        "    duplicateAddress.add(address)\n",
        "  else:\n",
        "    uniqueAddress.add(address)\n",
        "\n",
        "print(\"OriginalList: \", my_list_ten)\n",
        "print(\"MemoryAddress: \", my_list_ten_mem)\n",
        "print(\"Dupliated Memory Address: \", duplicateAddress)"
      ],
      "metadata": {
        "id": "S5kO371-Q_NL",
        "outputId": "3fd881e2-c732-4361-c7ed-581e26f17a0b",
        "colab": {
          "base_uri": "https://localhost:8080/"
        }
      },
      "execution_count": 19,
      "outputs": [
        {
          "output_type": "stream",
          "name": "stdout",
          "text": [
            "OriginalList:  [1, 2, 3, 4, 4, 5, 6, 7, 9, 10]\n",
            "MemoryAddress:  [10750856, 10750888, 10750920, 10750952, 10750952, 10750984, 10751016, 10751048, 10751112, 10751144]\n",
            "Dupliated Memory Address:  {10750952}\n"
          ]
        }
      ]
    },
    {
      "cell_type": "markdown",
      "source": [
        "e. Delete the list ```my-list-ten``` created in the above step."
      ],
      "metadata": {
        "id": "tJlIQIYjBPLX"
      }
    },
    {
      "cell_type": "code",
      "source": [
        "# Write your code here.\n",
        "del my_list_ten\n",
        "\n",
        "#how to verify it is deleted\n",
        "\n",
        "try:\n",
        "  print(my_list_ten)\n",
        "except NameError:\n",
        "\n",
        "  print(\"my_list_ten has been deleted\")\n"
      ],
      "metadata": {
        "id": "fQr5X9N0RceU"
      },
      "execution_count": null,
      "outputs": []
    },
    {
      "cell_type": "markdown",
      "source": [
        "f. Create a new list ```my-new-list``` of the same 10 items used in ```my-list-ten```. Generate memory addresses of the items in ```my-new-list``` and compare them with the memory addresses in ```my-list-ten-mem```. Discuss what do you observe."
      ],
      "metadata": {
        "id": "jflVX2GHBT3-"
      }
    },
    {
      "cell_type": "code",
      "source": [
        "# Write your code here.\n",
        "my_list_ten= [1, 2, 3, 4, 4, 5, 6, 7, 9, 10]\n",
        "my_list_ten = [id(item) for item in my_list_ten]\n",
        "myNew_list_ten = my_list_ten.copy()\n",
        "\n",
        "myNew_list_mem = [id(item) for item in myNew_list_ten]\n",
        "\n",
        "sameAddress = [myNew_list_mem[i] == my_list_ten_mem[i] for i in range(len(myNew_list_mem))]\n",
        "\n",
        "print(\"originalList :\", my_list_ten)\n",
        "print(\"new List: \", myNew_list_ten)\n",
        "print(\"original Memory : \", my_list_ten_mem)\n",
        "print(\"New Memory : \", my_list_ten_mem)\n",
        "print(\"are they match?\", sameAddress)"
      ],
      "metadata": {
        "id": "QacofGe4RdZX",
        "outputId": "f7461971-5d66-4138-a092-d349c04a1920",
        "colab": {
          "base_uri": "https://localhost:8080/"
        }
      },
      "execution_count": 20,
      "outputs": [
        {
          "output_type": "stream",
          "name": "stdout",
          "text": [
            "originalList : [10750856, 10750888, 10750920, 10750952, 10750952, 10750984, 10751016, 10751048, 10751112, 10751144]\n",
            "new List:  [10750856, 10750888, 10750920, 10750952, 10750952, 10750984, 10751016, 10751048, 10751112, 10751144]\n",
            "original Memory :  [10750856, 10750888, 10750920, 10750952, 10750952, 10750984, 10751016, 10751048, 10751112, 10751144]\n",
            "New Memory :  [10750856, 10750888, 10750920, 10750952, 10750952, 10750984, 10751016, 10751048, 10751112, 10751144]\n",
            "are they match? [False, False, False, False, False, False, False, False, False, False]\n"
          ]
        }
      ]
    },
    {
      "cell_type": "markdown",
      "source": [
        "g. Suppose that you have the following list: ```x = [[1, 2, 3], [4, 5, 6], [7, 8, 9]]```. What code could you use to get a copy ```y``` of that list in which you could change the elements without the side effect of changing the contents of ```x```?"
      ],
      "metadata": {
        "id": "BRZq7VPZBYsN"
      }
    },
    {
      "cell_type": "code",
      "source": [
        "import copy\n",
        "x = [[1, 2, 3], [4, 5, 6], [7, 8, 9]]\n",
        "# Write your code here.\n",
        "\n",
        "y = copy.deepcopy(x)\n",
        "print(y)"
      ],
      "metadata": {
        "id": "5M7ksW8xsC3k",
        "outputId": "0436e720-3dd1-44d6-88b8-1d6197c0ac33",
        "colab": {
          "base_uri": "https://localhost:8080/"
        }
      },
      "execution_count": 23,
      "outputs": [
        {
          "output_type": "stream",
          "name": "stdout",
          "text": [
            "[[1, 2, 3], [4, 5, 6], [7, 8, 9]]\n"
          ]
        }
      ]
    },
    {
      "cell_type": "markdown",
      "source": [
        "h. Is it possible to use multiple expressions within a list comprehension?"
      ],
      "metadata": {
        "id": "LUIwtfcJBnsq"
      }
    },
    {
      "cell_type": "code",
      "source": [
        "# True or False\n",
        "#yes"
      ],
      "metadata": {
        "id": "7xxHmgPKBoSc"
      },
      "execution_count": 24,
      "outputs": []
    },
    {
      "cell_type": "markdown",
      "source": [
        "i. Using a list comprehension, count how many spaces are in the following statement.\n",
        "\"To be, or not to be, this is the question\""
      ],
      "metadata": {
        "id": "dV-_5n78BxH4"
      }
    },
    {
      "cell_type": "code",
      "source": [
        "# Write your code here.\n",
        "statement = \"To be, or not to be, this is the question\"\n",
        "spaceCounter = sum([1 for char in statement if char == \" \"])\n",
        "print(\"spaces : \", spaceCounter)"
      ],
      "metadata": {
        "id": "1C6WRbQ1I_up",
        "outputId": "0b9b73bc-770b-4071-9d02-1b2a8c765acb",
        "colab": {
          "base_uri": "https://localhost:8080/"
        }
      },
      "execution_count": 25,
      "outputs": [
        {
          "output_type": "stream",
          "name": "stdout",
          "text": [
            "spaces :  9\n"
          ]
        }
      ]
    },
    {
      "cell_type": "markdown",
      "source": [
        "j. Choose any 5 lists operations of your choice from the link https://docs.python.org/3/tutorial/datastructures.html\n"
      ],
      "metadata": {
        "id": "QJQ3mnTyIz7c"
      }
    },
    {
      "cell_type": "code",
      "source": [
        "# Write your code here."
      ],
      "metadata": {
        "id": "7JcT_W26B0Nu"
      },
      "execution_count": null,
      "outputs": []
    },
    {
      "cell_type": "markdown",
      "source": [
        "## Challenges\n",
        "\n",
        "Please describe the challenges you faced during the exercise."
      ],
      "metadata": {
        "id": "xQzjxKdvvbyo"
      }
    },
    {
      "cell_type": "markdown",
      "source": [
        "Write your challenges here"
      ],
      "metadata": {
        "id": "qfJNpTB5EbY4"
      }
    }
  ]
}
{
  "nbformat": 4,
  "nbformat_minor": 0,
  "metadata": {
    "colab": {
      "provenance": [],
      "include_colab_link": true
    },
    "kernelspec": {
      "name": "python3",
      "display_name": "Python 3"
    },
    "language_info": {
      "name": "python"
    }
  },
  "cells": [
    {
      "cell_type": "markdown",
      "metadata": {
        "id": "view-in-github",
        "colab_type": "text"
      },
      "source": [
        "<a href=\"https://colab.research.google.com/github/Frabin2023/assignmets/blob/main/Input.ipynb\" target=\"_parent\"><img src=\"https://colab.research.google.com/assets/colab-badge.svg\" alt=\"Open In Colab\"/></a>"
      ]
    },
    {
      "cell_type": "markdown",
      "source": [
        "# User input in Python\n",
        "\n",
        "## Objective\n",
        "1. Understand how ```input()``` function is applied.\n",
        "\n",
        "## Prerequisite\n",
        "\n",
        "- Python literals lecture & lab\n",
        "- Programming variables lecture\n",
        "\n",
        "## What do you need to complete this exercise?\n",
        "\n",
        "You can perform this exercise in any Python IDE, including JupyterLab or Google Colab.\n"
      ],
      "metadata": {
        "id": "2ITy4ycVFXBq"
      }
    },
    {
      "cell_type": "markdown",
      "source": [
        "### User input\n",
        "\n",
        "a. Write a program that prompts the user to enter the weight of a person in kilograms and outputs the equivalent weight in pounds. (Note that 1 kilogram = 2.2 pounds)."
      ],
      "metadata": {
        "id": "uQxH0KO0tsDc"
      }
    },
    {
      "cell_type": "code",
      "source": [
        "# Write your code here\n",
        "weight = float(input(\"enter the weight in Kilograms: \\n\"))\n",
        "print(\"Your weight in Pounds is \", weight*2.2)\n",
        "\n",
        "# Hint: Use int() or float() to convert the user input into an integer or float\n",
        "x = \"10\"\n",
        "print(type(x))\n",
        "x = int(x)\n",
        "print(type(x))"
      ],
      "metadata": {
        "colab": {
          "base_uri": "https://localhost:8080/"
        },
        "id": "N3wgQQ672rWR",
        "outputId": "2b727b1d-db9d-436b-ebf0-01dbaa096447"
      },
      "execution_count": 7,
      "outputs": [
        {
          "output_type": "stream",
          "name": "stdout",
          "text": [
            "enter the weight in Kilograms: \n",
            "45\n",
            "Your weight in Pounds is  99.00000000000001\n",
            "<class 'str'>\n",
            "<class 'int'>\n"
          ]
        }
      ]
    },
    {
      "cell_type": "markdown",
      "source": [
        "b. Interest on a credit card's unpaid balance is calculated using the average daily balance. Suppose that $netBalance$ is the balance shown in the bill, $payment$ is the payment made, $d1$ is the number of days in the billing cycle, and $d2$ is the number of days payment is made before biling cycle. Then, the average daily balance is: $$averageDailybalance = (netBalance \\times d1 - payment \\times d2)/d1$$.\n",
        "\n",
        "If the interest rate per month is, say, 0.0152, then the interest on the unpaid balance is: $interest = averageDailyBalance \\times 0.0152$\n",
        "\n",
        "Write a program that accepts as input $netBalance$, $payment$, $d1$, $d2$, and $interest rate per month$. The program outputs the interest."
      ],
      "metadata": {
        "id": "2ou6B-5b2ws3"
      }
    },
    {
      "cell_type": "code",
      "source": [
        "# Write your code here\n",
        "#Fourmula to get user inputes\n",
        "netBalance= float(input(\"Enter your netBalance here: \"))\n",
        "Payment = float(input(\"Enter your payment amount: \"))\n",
        "d1=int(input(\"Enter number of days in the billign cycle: \"))\n",
        "d2=int(input(\"Enter number of paid days: \"))\n",
        "\n",
        "#adding interest rate here\n",
        "\n",
        "interestRatePerMonth = float(input(\"Enter the monthly interest rate (e.g., 0.0152 for 1.52%): \"))\n",
        "\n",
        "averageDailyBalance=(netBalance * d1 - Payment * d2) / d1\n",
        "\n",
        "# Calculate interest\n",
        "interest = averageDailyBalance * interestRatePerMonth\n",
        "\n",
        "#result\n",
        "print(f\"The interet on the balance on bill is: ${interest:.2f}\")# I still do not undrestand ${interest:.2f}\"\n",
        "\n"
      ],
      "metadata": {
        "id": "pqP70bD02x9h",
        "outputId": "79d1cefd-7d07-4dc3-a967-ef248e9dd23c",
        "colab": {
          "base_uri": "https://localhost:8080/"
        }
      },
      "execution_count": 13,
      "outputs": [
        {
          "output_type": "stream",
          "name": "stdout",
          "text": [
            "Enter your netBalance here: 50\n",
            "Enter your payment amount: 25\n",
            "Enter number of days in the billign cycle: 30\n",
            "Enter number of paid days: 15\n",
            "Enter the monthly interest rate (e.g., 0.0152 for 1.52%): 0.0145\n",
            "The interet on the balance on bill is: $0.54\n"
          ]
        }
      ]
    },
    {
      "cell_type": "markdown",
      "source": [
        "c. Two cars A and B leave an intersection at the same time. Car A travels west at an average speed of x miles per hour and car B travels south at an average speed of y miles per hour. Write a program that prompts the user to enter the average speed of both the cars and the elapsed time (in hours and minutes) and outputs the (shortest) distance between the cars."
      ],
      "metadata": {
        "id": "gAxw_xVk25qO"
      }
    },
    {
      "cell_type": "code",
      "source": [
        "# Write your code here\n",
        "\n",
        "# User inputes here\n",
        "x = float(input(\"Enter the speed of Car A per miles: \"))\n",
        "y = float(input(\"Enter the spped of Car B per miles: \"))\n",
        "hours = int (input(\"Enter the elapsed time in hours: \"))\n",
        "minutes = int(input(\"Enter the elaped time in minutes: \"))\n",
        "\n",
        "# created a new variable to conver minutes to hours\n",
        "time_in_hours = hours + (minutes / 60)\n",
        "\n",
        "distanceBy_A = x * time_in_hours\n",
        "distanceBy_B = y * time_in_hours\n",
        "\n",
        "#square root\n",
        "\n",
        "shortest_distance = ( distanceBy_A**2 + distanceBy_B**2) **0.5\n",
        "\n",
        "print(\"The shorteset distance between two cars is: \", (shortest_distance, 2), \"miles\" )\n",
        "\n",
        "\n",
        "\n",
        "\n"
      ],
      "metadata": {
        "id": "nMPuZXsH26nW",
        "outputId": "7c56fc51-89d7-486e-9cec-e01f9f84019d",
        "colab": {
          "base_uri": "https://localhost:8080/"
        }
      },
      "execution_count": 16,
      "outputs": [
        {
          "output_type": "stream",
          "name": "stdout",
          "text": [
            "Enter the speed of Car A per miles: 120\n",
            "Enter the spped of Car B per miles: 130\n",
            "Enter the elapsed time in hours: 2\n",
            "Enter the elaped time in minutes: 34\n",
            "The shorteset distance between two cars is:  (454.08968766582274, 2) miles\n"
          ]
        }
      ]
    },
    {
      "cell_type": "markdown",
      "source": [
        "### Troubleshooting\n",
        "\n",
        "Please troubleshoot the following issue **without using Python**, and explain your reasoning.\n",
        "\n",
        "a. ```hello = \"hello\"```  \n",
        "b. ```_var = 100```  \n",
        "c. ```!var_1 = 200```  \n",
        "d. ```print = \"print me\"```  \n",
        "e. ```False = 0```  "
      ],
      "metadata": {
        "id": "V0l5fqK-NJ2n"
      }
    },
    {
      "cell_type": "markdown",
      "source": [
        "Write your answer here\n",
        "\n",
        "a. and b. have no issues, they followed the naming conventions.\n",
        "c. invalid start with !\n",
        "d. print a function\n",
        "e. is boolean experession must be true or false"
      ],
      "metadata": {
        "id": "Cz8CqobPNO8n"
      }
    },
    {
      "cell_type": "markdown",
      "source": [
        "## Challenges\n",
        "\n",
        "Please describe the challenges you faced during the exercise."
      ],
      "metadata": {
        "id": "xQzjxKdvvbyo"
      }
    },
    {
      "cell_type": "markdown",
      "source": [
        "Write your challenges here\n",
        "\n",
        "Very challenging tasks. It took a long time and sometimes I had to google it to find out the correct answeres. I am good with casting but maintaing the logic of the furmulas was challenging."
      ],
      "metadata": {
        "id": "qfJNpTB5EbY4"
      }
    }
  ]
}
{
  "nbformat": 4,
  "nbformat_minor": 0,
  "metadata": {
    "colab": {
      "provenance": [],
      "include_colab_link": true
    },
    "kernelspec": {
      "name": "python3",
      "display_name": "Python 3"
    },
    "language_info": {
      "name": "python"
    }
  },
  "cells": [
    {
      "cell_type": "markdown",
      "metadata": {
        "id": "view-in-github",
        "colab_type": "text"
      },
      "source": [
        "<a href=\"https://colab.research.google.com/github/Frabin2023/assignmets/blob/main/Tuples.ipynb\" target=\"_parent\"><img src=\"https://colab.research.google.com/assets/colab-badge.svg\" alt=\"Open In Colab\"/></a>"
      ]
    },
    {
      "cell_type": "markdown",
      "source": [
        "# Tuples in Python\n",
        "A tuple in Python is an ordered, immutable sequence of elements. Tuples are defined using parentheses and can contain elements of different data types, including other tuples. Once a tuple is created, its elements cannot be modified, added, or removed. This immutability makes tuples suitable for representing fixed collections of data.\n",
        "\n",
        "## Objective\n",
        "- Comprehend the application of tuples\n",
        "- Understand how a tuple uses a memory\n",
        "- Apply various operations on tuples\n",
        "\n",
        "## Prerequisite\n",
        "\n",
        "- Lists\n",
        "- Decision and loops\n",
        "- Input functions\n",
        "- Python literals\n",
        "- Programming variables\n",
        "\n",
        "\n",
        "## What do you need to complete this exercise?\n",
        "\n",
        "You can perform this exercise in any Python IDE, including JupyterLab or Google Colab.\n"
      ],
      "metadata": {
        "id": "2ITy4ycVFXBq"
      }
    },
    {
      "cell_type": "markdown",
      "source": [
        "# 1. Exercising tuples\n",
        "\n",
        "1a) Take five inputs from an user and save it in a tuple called ```my_tuple```"
      ],
      "metadata": {
        "id": "uQxH0KO0tsDc"
      }
    },
    {
      "cell_type": "code",
      "source": [
        "# Write your code here.\n",
        "inputs = []#We start with a list because it's easier to append new elements to a list rather than to a tuple.\n",
        "for i in range(5):\n",
        "  user_input = input(f\"Enter input {i+1}: \")# added i+1 to start from 1 rather than 0 which is weired.\n",
        "  inputs.append(user_input)\n",
        "\n",
        "  my_tuple = tuple(inputs)\n",
        "  print(my_tuple)"
      ],
      "metadata": {
        "id": "rRTflD1C9mjt",
        "outputId": "8f62072c-e2dc-4d77-9ed4-077ddc0759d2",
        "colab": {
          "base_uri": "https://localhost:8080/"
        }
      },
      "execution_count": 5,
      "outputs": [
        {
          "output_type": "stream",
          "name": "stdout",
          "text": [
            "Enter input 1: q\n",
            "('q',)\n",
            "Enter input 2: 2\n",
            "('q', '2')\n",
            "Enter input 3: _\n",
            "('q', '2', '_')\n",
            "Enter input 4: '\n",
            "('q', '2', '_', \"'\")\n",
            "Enter input 5: #\n",
            "('q', '2', '_', \"'\", '#')\n"
          ]
        }
      ]
    },
    {
      "cell_type": "markdown",
      "source": [
        "1b. How do you assign a single element in a tuple?"
      ],
      "metadata": {
        "id": "0jkTuRdlA6sk"
      }
    },
    {
      "cell_type": "code",
      "source": [
        "# Write your code here.\n",
        "# tuples are immutable, however,  there are other ways to do it.\n",
        "# Original tuple\n",
        "my_tuple = ('Apple', 'Banana', 'Cherry', 'Date', 'Elderberry')\n",
        "\n",
        "# first we nee to Convert tuple to list\n",
        "my_list = list(my_tuple)\n",
        "\n",
        "# then we can Modify the list\n",
        "my_list[0] = 'Apricot'  # indext 0 Change the first element\n",
        "\n",
        "# Convert list back to tuple\n",
        "my_tuple = tuple(my_list)\n",
        "\n",
        "print(my_tuple)\n"
      ],
      "metadata": {
        "id": "8ZIVOfAMQt2Z"
      },
      "execution_count": null,
      "outputs": []
    },
    {
      "cell_type": "markdown",
      "source": [
        "1c. ```my_tuple = (1,2,3,4,3,2,1,2,3,5,4,3,2,1)```\n",
        "Count the repeated integers and print the result on the console."
      ],
      "metadata": {
        "id": "Wv1LOaouA_Gq"
      }
    },
    {
      "cell_type": "code",
      "source": [
        "# Write your code here.\n",
        "my_tuple = (1,2,3,4,3,2,1,2,3,5,4,3,2,1)\n",
        "uniqueNumbers = []\n",
        "counts= []\n",
        "\n",
        "for num in my_tuple:\n",
        "  if num not in uniqueNumbers:\n",
        "    uniqueNumbers.append(num)\n",
        "    counts.append(my_tuple.count(num))\n",
        "\n",
        "    for i in range(len(uniqueNumbers)):\n",
        "      print(f\"{uniqueNumbers[i]}: {counts[i]}\")\n"
      ],
      "metadata": {
        "id": "cF0UyMIqQ8V3",
        "outputId": "65cd9b35-768f-4ec0-c92e-1ba7b3dda188",
        "colab": {
          "base_uri": "https://localhost:8080/"
        }
      },
      "execution_count": 7,
      "outputs": [
        {
          "output_type": "stream",
          "name": "stdout",
          "text": [
            "1: 3\n",
            "1: 3\n",
            "2: 4\n",
            "1: 3\n",
            "2: 4\n",
            "3: 4\n",
            "1: 3\n",
            "2: 4\n",
            "3: 4\n",
            "4: 2\n",
            "1: 3\n",
            "2: 4\n",
            "3: 4\n",
            "4: 2\n",
            "5: 1\n"
          ]
        }
      ]
    },
    {
      "cell_type": "markdown",
      "source": [
        "1d. ```my_tuple = my_tuple + my_tuple```\n",
        "\n",
        "\n",
        "Proof that ```my_tuple``` in part c is different than the ```my_tuple``` in part d.\n"
      ],
      "metadata": {
        "id": "0IWZsl7LBGvD"
      }
    },
    {
      "cell_type": "code",
      "source": [
        "# Write your code here.\n",
        "# Part c: Initialization\n",
        "my_tuple_c = (1, 2, 3, 4, 3, 2, 1, 2, 3, 5, 4, 3, 2, 1)\n",
        "\n",
        "# Part d: Concatenation\n",
        "my_tuple_d = my_tuple_c + my_tuple_c\n",
        "\n",
        "print(f\"length c {my_tuple_c}\")\n",
        "print(f\"length d {my_tuple_d}\")\n",
        "\n"
      ],
      "metadata": {
        "id": "S5kO371-Q_NL",
        "outputId": "0f6b3bb0-4d15-427c-bc7c-808402eee905",
        "colab": {
          "base_uri": "https://localhost:8080/"
        }
      },
      "execution_count": 8,
      "outputs": [
        {
          "output_type": "stream",
          "name": "stdout",
          "text": [
            "length c (1, 2, 3, 4, 3, 2, 1, 2, 3, 5, 4, 3, 2, 1)\n",
            "length d (1, 2, 3, 4, 3, 2, 1, 2, 3, 5, 4, 3, 2, 1, 1, 2, 3, 4, 3, 2, 1, 2, 3, 5, 4, 3, 2, 1)\n"
          ]
        }
      ]
    },
    {
      "cell_type": "markdown",
      "source": [
        "1e. Explain why the following operations aren’t legal for\n",
        "the tuple. Answer without using the Python.\n",
        "\n",
        "\n",
        "because Tuples are immutabe and you can not append it.\n",
        "```\n",
        "x = (1,2,3,4)\n",
        "x.append(1)\n",
        "x[1] = \"hello\"\n",
        "del x[2]\n",
        "```"
      ],
      "metadata": {
        "id": "gdub5W3O0isl"
      }
    },
    {
      "cell_type": "markdown",
      "source": [
        "Write your response here.\n",
        "because Tuples are immutabe and you can not append it. You are not able to add, change or remove from tuple after declaration."
      ],
      "metadata": {
        "id": "sLoX5Dtt0_rX"
      }
    },
    {
      "cell_type": "markdown",
      "source": [
        "# 2. Packing and unpacking tuples"
      ],
      "metadata": {
        "id": "tJlIQIYjBPLX"
      }
    },
    {
      "cell_type": "markdown",
      "source": [
        "Python permits tuples to appear on the left side of an assignment operator, in which case variables in the tuple receive the corresponding values from the tuple on the right side of the assignment operator. Here’s a simple example:"
      ],
      "metadata": {
        "id": "QkNQDkq7zAOr"
      }
    },
    {
      "cell_type": "code",
      "source": [
        "(one, two, three, four) =  (1, 2, 3, 4)\n",
        "\n",
        "# If The number of variables on the left side matchs the number of values on the right side."
      ],
      "metadata": {
        "id": "70JnWsa6zE0M"
      },
      "execution_count": null,
      "outputs": []
    },
    {
      "cell_type": "markdown",
      "source": [
        "2a. What is the data type of each variable?\n",
        "\n",
        "It should be integer, since the date assigned to them are int or integer.\n"
      ],
      "metadata": {
        "id": "O0-uz6MdzJ4a"
      }
    },
    {
      "cell_type": "markdown",
      "source": [
        "2b. Python has an extended unpacking feature, allowing an element marked with * to absorb any number of elements not matching the other elements. For example,"
      ],
      "metadata": {
        "id": "6vXaWJBczn5u"
      }
    },
    {
      "cell_type": "code",
      "source": [
        "x = (1, 2, 3, 4)\n",
        "a, b, *c = x\n",
        "a, b, c"
      ],
      "metadata": {
        "colab": {
          "base_uri": "https://localhost:8080/"
        },
        "id": "Dkgby1wqzyx8",
        "outputId": "73962872-2c9e-4ee8-8da5-499d88ad3ca5"
      },
      "execution_count": 9,
      "outputs": [
        {
          "output_type": "execute_result",
          "data": {
            "text/plain": [
              "(1, 2, [3, 4])"
            ]
          },
          "metadata": {},
          "execution_count": 9
        }
      ]
    },
    {
      "cell_type": "markdown",
      "source": [
        "2c. What will be the result of ```a, *b, c = x```?"
      ],
      "metadata": {
        "id": "l9xBGV0K0L6_"
      }
    },
    {
      "cell_type": "code",
      "source": [
        "# Write your code here.\n",
        "x = (1,2,3,4,5)\n",
        "a, *b, c = x\n",
        "a, b, c\n",
        "\n"
      ],
      "metadata": {
        "id": "fQr5X9N0RceU",
        "outputId": "a7c43f9f-2c76-433d-bead-bb1199ce94de",
        "colab": {
          "base_uri": "https://localhost:8080/"
        }
      },
      "execution_count": 11,
      "outputs": [
        {
          "output_type": "execute_result",
          "data": {
            "text/plain": [
              "(1, [2, 3, 4], 5)"
            ]
          },
          "metadata": {},
          "execution_count": 11
        }
      ]
    },
    {
      "cell_type": "markdown",
      "source": [
        "# 3. Memory management\n",
        "100 is unique and not in my_y so needs an new memory assigned to it. However 200 is repeated and may share memorty.\n",
        "```\n",
        "my_x = [100,200,300,400]\n",
        "my_y = (200,300,400,500)\n",
        "\n",
        "```\n",
        "Discuss how memory addresses are assigned to each index of the list and the tuple. Pay attention to new addresses & re-used addresses.\n",
        "\n",
        "| Index | my_x | my_x |\n",
        "|   -   |  -   |  -   |\n",
        "|   0   |   -  |  -   |\n",
        "|   1   |   -  |  -   |\n",
        "|   2   |   -  |  -   |\n",
        "|   3   |   -  |  -   |\n",
        "\n"
      ],
      "metadata": {
        "id": "QV96NnL82MPT"
      }
    },
    {
      "cell_type": "markdown",
      "source": [
        "## Challenges\n",
        "\n",
        "Please describe the challenges you faced during the exercise.\n"
      ],
      "metadata": {
        "id": "xQzjxKdvvbyo"
      }
    },
    {
      "cell_type": "markdown",
      "source": [
        "Write your challenges here"
      ],
      "metadata": {
        "id": "qfJNpTB5EbY4"
      }
    },
    {
      "cell_type": "code",
      "source": [],
      "metadata": {
        "id": "E5g8GtlXICJ8"
      },
      "execution_count": null,
      "outputs": []
    }
  ]
}